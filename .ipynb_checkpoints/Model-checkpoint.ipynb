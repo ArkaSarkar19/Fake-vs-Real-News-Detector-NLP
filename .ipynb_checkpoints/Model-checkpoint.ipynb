{
 "cells": [
  {
   "cell_type": "code",
   "execution_count": 1,
   "metadata": {},
   "outputs": [],
   "source": [
    "import numpy as np\n",
    "import pandas as pd\n",
    "import tensorflow as tf\n",
    "import nltk"
   ]
  },
  {
   "cell_type": "code",
   "execution_count": 2,
   "metadata": {},
   "outputs": [],
   "source": [
    "df_true = pd.read_csv(\"Dataset/True.csv\")\n",
    "df_false = pd.read_csv(\"Dataset/Fake.csv\")"
   ]
  },
  {
   "cell_type": "code",
   "execution_count": 3,
   "metadata": {},
   "outputs": [
    {
     "name": "stdout",
     "output_type": "stream",
     "text": [
      "True News :  21417\n",
      "False News :  23481\n",
      "Dataset :  44898\n"
     ]
    }
   ],
   "source": [
    "#Add category\n",
    "df_true[\"Category\"] = 1\n",
    "df_false[\"Category\"] = 0\n",
    "print(\"True News : \", df_true.title.count())\n",
    "print(\"False News : \", df_false.title.count())\n",
    "#Merge into one dataset\n",
    "df_dataset = pd.concat([df_true, df_false])\n",
    "print(\"Dataset : \", df_dataset.title.count())"
   ]
  },
  {
   "cell_type": "code",
   "execution_count": null,
   "metadata": {},
   "outputs": [],
   "source": []
  },
  {
   "cell_type": "code",
   "execution_count": 4,
   "metadata": {},
   "outputs": [
    {
     "data": {
      "text/plain": [
       "44898"
      ]
     },
     "execution_count": 4,
     "metadata": {},
     "output_type": "execute_result"
    }
   ],
   "source": [
    "df_dataset[\"Body\"] = df_dataset[\"title\"] + df_dataset[\"text\"]\n",
    "df_dataset.head()\n",
    "\n",
    "del df_dataset[\"text\"]\n",
    "del df_dataset[\"title\"]\n",
    "del df_dataset[\"subject\"]\n",
    "del df_dataset[\"date\"]\n",
    "\n",
    "df_dataset.Body.count()"
   ]
  },
  {
   "cell_type": "code",
   "execution_count": 5,
   "metadata": {},
   "outputs": [
    {
     "data": {
      "text/html": [
       "<div>\n",
       "<style scoped>\n",
       "    .dataframe tbody tr th:only-of-type {\n",
       "        vertical-align: middle;\n",
       "    }\n",
       "\n",
       "    .dataframe tbody tr th {\n",
       "        vertical-align: top;\n",
       "    }\n",
       "\n",
       "    .dataframe thead th {\n",
       "        text-align: right;\n",
       "    }\n",
       "</style>\n",
       "<table border=\"1\" class=\"dataframe\">\n",
       "  <thead>\n",
       "    <tr style=\"text-align: right;\">\n",
       "      <th></th>\n",
       "      <th>Category</th>\n",
       "      <th>Body</th>\n",
       "    </tr>\n",
       "  </thead>\n",
       "  <tbody>\n",
       "    <tr>\n",
       "      <th>0</th>\n",
       "      <td>1</td>\n",
       "      <td>As U.S. budget fight looms, Republicans flip t...</td>\n",
       "    </tr>\n",
       "    <tr>\n",
       "      <th>1</th>\n",
       "      <td>1</td>\n",
       "      <td>U.S. military to accept transgender recruits o...</td>\n",
       "    </tr>\n",
       "    <tr>\n",
       "      <th>2</th>\n",
       "      <td>1</td>\n",
       "      <td>Senior U.S. Republican senator: 'Let Mr. Muell...</td>\n",
       "    </tr>\n",
       "    <tr>\n",
       "      <th>3</th>\n",
       "      <td>1</td>\n",
       "      <td>FBI Russia probe helped by Australian diplomat...</td>\n",
       "    </tr>\n",
       "    <tr>\n",
       "      <th>4</th>\n",
       "      <td>1</td>\n",
       "      <td>Trump wants Postal Service to charge 'much mor...</td>\n",
       "    </tr>\n",
       "  </tbody>\n",
       "</table>\n",
       "</div>"
      ],
      "text/plain": [
       "   Category                                               Body\n",
       "0         1  As U.S. budget fight looms, Republicans flip t...\n",
       "1         1  U.S. military to accept transgender recruits o...\n",
       "2         1  Senior U.S. Republican senator: 'Let Mr. Muell...\n",
       "3         1  FBI Russia probe helped by Australian diplomat...\n",
       "4         1  Trump wants Postal Service to charge 'much mor..."
      ]
     },
     "execution_count": 5,
     "metadata": {},
     "output_type": "execute_result"
    }
   ],
   "source": [
    "df_dataset.head()"
   ]
  },
  {
   "cell_type": "code",
   "execution_count": 6,
   "metadata": {},
   "outputs": [],
   "source": [
    "from nltk.corpus import stopwords\n",
    "from wordcloud import WordCloud,STOPWORDS"
   ]
  },
  {
   "cell_type": "code",
   "execution_count": 7,
   "metadata": {},
   "outputs": [
    {
     "name": "stdout",
     "output_type": "stream",
     "text": [
      "{'there', 'only', 'just', 'am', 'once', \"she's\", \"shan't\", \"don't\", 'all', 'both', 'with', 'her', \"it's\", 'so', 'where', 'don', 'an', 'any', 'isn', \"doesn't\", \"mustn't\", 'out', 'shan', 'our', 'own', 'and', \"aren't\", 'about', 'from', 'down', 'm', 'she', \"hadn't\", 'themselves', 'y', 'i', 'above', 'to', 'him', 'needn', 'aren', 'will', 'can', 'some', 'in', 'other', \"haven't\", 'ma', 'was', 'while', 'here', 'into', 'be', 'why', \"didn't\", 'didn', 'on', 'yourself', 're', 'such', 'd', 's', 'weren', 'the', 'has', 'yourselves', 'its', 'nor', 'at', \"weren't\", 'whom', 'if', 'under', \"wasn't\", 'them', \"isn't\", 'ourselves', 'o', 'or', 'than', 'wasn', 'have', 'does', 'mightn', 'theirs', 'those', 'are', 'between', 'again', 'it', 'is', 'had', 'no', 'then', 'yours', 'won', 'were', 'shouldn', 'been', \"needn't\", 'itself', 'now', 'before', 'as', 'that', 'more', \"won't\", 'but', 'up', 'these', 'by', \"couldn't\", \"you'd\", 'off', 'most', 'haven', 'their', 'hers', 'of', \"mightn't\", 'having', 'against', 'further', 'not', \"you'll\", 'a', 'after', 'how', 'you', 'your', 'couldn', 'who', 'ain', 'doesn', 'did', 'few', \"should've\", 've', 'very', 'they', 'this', \"wouldn't\", 'myself', 'himself', 'what', \"that'll\", 'we', 'over', 'doing', 't', 'mustn', 'during', 'hadn', 'herself', \"hasn't\", 'each', \"you've\", 'through', 'below', \"shouldn't\", 'should', 'll', 'me', 'ours', 'he', 'too', 'because', \"you're\", 'when', 'until', 'same', 'wouldn', 'his', 'which', 'do', 'hasn', 'being', 'my', 'for'}\n"
     ]
    }
   ],
   "source": [
    "stopwords = set(stopwords.words('english'))\n",
    "print(stopwords)"
   ]
  },
  {
   "cell_type": "code",
   "execution_count": 8,
   "metadata": {},
   "outputs": [
    {
     "name": "stdout",
     "output_type": "stream",
     "text": [
      "0        As U.S. budget fight looms, Republicans flip t...\n",
      "1        U.S. military to accept transgender recruits o...\n",
      "2        Senior U.S. Republican senator: 'Let Mr. Muell...\n",
      "3        FBI Russia probe helped by Australian diplomat...\n",
      "4        Trump wants Postal Service to charge 'much mor...\n",
      "5        White House, Congress prepare for talks on spe...\n",
      "6        Trump says Russia probe will be fair, but time...\n",
      "7        Factbox: Trump on Twitter (Dec 29) - Approval ...\n",
      "8        Trump on Twitter (Dec 28) - Global WarmingThe ...\n",
      "9        Alabama official to certify Senator-elect Jone...\n",
      "10       Jones certified U.S. Senate winner despite Moo...\n",
      "11       New York governor questions the constitutional...\n",
      "12       Factbox: Trump on Twitter (Dec 28) - Vanity Fa...\n",
      "13       Trump on Twitter (Dec 27) - Trump, Iraq, Syria...\n",
      "14       Man says he delivered manure to Mnuchin to pro...\n",
      "15       Virginia officials postpone lottery drawing to...\n",
      "16       U.S. lawmakers question businessman at 2016 Tr...\n",
      "17       Trump on Twitter (Dec 26) - Hillary Clinton, T...\n",
      "18       U.S. appeals court rejects challenge to Trump ...\n",
      "19       Treasury Secretary Mnuchin was sent gift-wrapp...\n",
      "20       Federal judge partially lifts Trump's latest r...\n",
      "21       Exclusive: U.S. memo weakens guidelines for pr...\n",
      "22       Trump travel ban should not apply to people wi...\n",
      "23       Second court rejects Trump bid to stop transge...\n",
      "24       Failed vote to oust president shakes up Peru's...\n",
      "25       Trump signs tax, government spending bills int...\n",
      "26       Companies have up to a year for new U.S. tax b...\n",
      "27       Trump on Twitter (Dec 22) - Tax cut, Missile d...\n",
      "28       Mexico to review need for tax changes after U....\n",
      "29       Senate leader McConnell sees a more collegial ...\n",
      "                               ...                        \n",
      "23451    3.57 Degrees: Kevin Bacon’s Cultural Mantle Sh...\n",
      "23452    Bernie Sanders Could End Up Winning Iowa21st C...\n",
      "23453    Plastic Persona: Behind the Scenes of the Ted ...\n",
      "23454    ‘Meet Jeb’ – Going For Your Sympathy Vote21st ...\n",
      "23455    BOILER ROOM – Examination, Exclamation, Excita...\n",
      "23456    Eyewash: CIA Elites Misleading Employees Indic...\n",
      "23457    Activist: ‘This is where you can make the most...\n",
      "23458    Episode #120 – SUNDAY WIRE: ‘Crisis of Liberty...\n",
      "23459    FBI Release Oregon Video Footage Depicting Dea...\n",
      "23460    Trial By YouTube: Mainstream Media Use Second-...\n",
      "23461    REPORT: ‘Federal Government Escalated the Viol...\n",
      "23462    BOILER ROOM – Oregon Standoff, Cuddle Parties,...\n",
      "23463    Eyewitness Says Feds Ambushed Bundys, 100 Shot...\n",
      "23464    Episode #119 – SUNDAY WIRE: ‘You Know the Dril...\n",
      "23465    ‘There’ll be boots on the ground’: US making n...\n",
      "23466    Boston Brakes? How to Hack a New Car With Your...\n",
      "23467    Oregon Governor Says Feds ‘Must Act’ Against P...\n",
      "23468    Ron Paul on Burns Oregon Standoff and Jury Nul...\n",
      "23469    BOILER ROOM: As the Frogs Slowly Boil – EP #40...\n",
      "23470    Arizona Rancher Protesting in Oregon is Target...\n",
      "23471    Seven Iranians freed in the prisoner swap have...\n",
      "23472    #Hashtag Hell & The Fake Left By Dady Chery an...\n",
      "23473    Astroturfing: Journalist Reveals Brainwashing ...\n",
      "23474    The New American Century: An Era of FraudPaul ...\n",
      "23475    Hillary Clinton: ‘Israel First’ (and no peace ...\n",
      "23476    McPain: John McCain Furious That Iran Treated ...\n",
      "23477    JUSTICE? Yahoo Settles E-mail Privacy Class-ac...\n",
      "23478    Sunnistan: US and Allied ‘Safe Zone’ Plan to T...\n",
      "23479    How to Blow $700 Million: Al Jazeera America F...\n",
      "23480    10 U.S. Navy Sailors Held by Iranian Military ...\n",
      "Name: Body, Length: 44898, dtype: object\n"
     ]
    },
    {
     "data": {
      "text/plain": [
       "44898"
      ]
     },
     "execution_count": 8,
     "metadata": {},
     "output_type": "execute_result"
    }
   ],
   "source": [
    "df_dataset[\"Body\"]\n",
    "print(df_dataset[\"Body\"])\n",
    "df_dataset[\"Body\"].count()"
   ]
  },
  {
   "cell_type": "code",
   "execution_count": 9,
   "metadata": {},
   "outputs": [],
   "source": [
    "from nltk.corpus import stopwords\n",
    "from wordcloud import WordCloud, STOPWORDS\n",
    "import re\n",
    "import string\n",
    "from bs4 import BeautifulSoup"
   ]
  },
  {
   "cell_type": "code",
   "execution_count": 10,
   "metadata": {},
   "outputs": [],
   "source": [
    "def clean_text(text):\n",
    "    soup = BeautifulSoup(text, \"html.parser\")\n",
    "    text = soup.get_text()\n",
    "    text = text.replace('[^\\w\\s]','')\n",
    "    text = text.replace(r\"[\\\"\\',]\", '')\n",
    "    text = re.sub('\\[[^]]*\\]', '', text)\n",
    "    stop = set(stopwords.words('english'))\n",
    "    punctuation = list(string.punctuation)\n",
    "    stop.update(punctuation)\n",
    "    text = text.replace('[^\\w\\s]','')\n",
    "    final_text = []\n",
    "    for i in text.split():\n",
    "#         print(i.strip().lower())\n",
    "        if i.strip().lower() not in stop:\n",
    "            final_text.append(i.strip())\n",
    "    return \" \".join(final_text)\n",
    "    "
   ]
  },
  {
   "cell_type": "code",
   "execution_count": 11,
   "metadata": {},
   "outputs": [
    {
     "name": "stderr",
     "output_type": "stream",
     "text": [
      "/home/arkasarkar/anaconda3/lib/python3.7/site-packages/bs4/__init__.py:335: UserWarning: \"https://100percentfedup.com/video-hillary-asked-about-trump-i-just-want-to-eat-some-pie/https://100percentfedup.com/video-hillary-asked-about-trump-i-just-want-to-eat-some-pie/\" looks like a URL. Beautiful Soup is not an HTTP client. You should probably use an HTTP client like requests to get the document behind the URL, and feed that document to Beautiful Soup.\n",
      "  ' that document to Beautiful Soup.' % decoded_markup\n",
      "/home/arkasarkar/anaconda3/lib/python3.7/site-packages/bs4/__init__.py:335: UserWarning: \"https://fedup.wpengine.com/wp-content/uploads/2015/04/hillarystreetart.jpghttps://fedup.wpengine.com/wp-content/uploads/2015/04/hillarystreetart.jpg\" looks like a URL. Beautiful Soup is not an HTTP client. You should probably use an HTTP client like requests to get the document behind the URL, and feed that document to Beautiful Soup.\n",
      "  ' that document to Beautiful Soup.' % decoded_markup\n",
      "/home/arkasarkar/anaconda3/lib/python3.7/site-packages/bs4/__init__.py:335: UserWarning: \"https://fedup.wpengine.com/wp-content/uploads/2015/04/entitled.jpghttps://fedup.wpengine.com/wp-content/uploads/2015/04/entitled.jpg\" looks like a URL. Beautiful Soup is not an HTTP client. You should probably use an HTTP client like requests to get the document behind the URL, and feed that document to Beautiful Soup.\n",
      "  ' that document to Beautiful Soup.' % decoded_markup\n"
     ]
    },
    {
     "name": "stdout",
     "output_type": "stream",
     "text": [
      "0    U.S. budget fight looms, Republicans flip fisc...\n",
      "0    Donald Trump Sends Embarrassing New Year’s Eve...\n",
      "Name: Body, dtype: object\n"
     ]
    }
   ],
   "source": [
    "df_dataset['Body'] = df_dataset['Body'].apply(clean_text)\n",
    "print(df_dataset[\"Body\"][0])"
   ]
  },
  {
   "cell_type": "code",
   "execution_count": 12,
   "metadata": {},
   "outputs": [],
   "source": [
    "from sklearn.model_selection import train_test_split"
   ]
  },
  {
   "cell_type": "code",
   "execution_count": 13,
   "metadata": {},
   "outputs": [],
   "source": [
    "X_train, X_test, Y_train, Y_test = train_test_split(df_dataset.Body, df_dataset.Category, test_size = 0.2, random_state = 0)"
   ]
  },
  {
   "cell_type": "code",
   "execution_count": 14,
   "metadata": {
    "scrolled": true
   },
   "outputs": [
    {
     "name": "stdout",
     "output_type": "stream",
     "text": [
      "0    U.S. budget fight looms, Republicans flip fisc...\n",
      "0    Donald Trump Sends Embarrassing New Year’s Eve...\n",
      "Name: Body, dtype: object\n",
      "13888    RUBIO Sides Democrats Giving Whopping $2 Billi...\n",
      "7763     Ted Cruz Says Endorsing Trump ‘Grave Mistake’,...\n",
      "8388     ‘Responsible Gun Owner’ Road Rages, Threatens ...\n",
      "16820    TEACHER’S UNION PROTEST Gets Ugly Protesters C...\n",
      "5099     Etihad advises checks U.S. missions new Trump ...\n",
      "5812     Factbox: Trump U.S. Supreme Court pick could a...\n",
      "2747     Trump asks Supreme Court block travel ban ruli...\n",
      "13264    BREAKING BOMBSHELL: Dem Congressmen Phone Numb...\n",
      "12157    Security tight Germany marks anniversary Chris...\n",
      "10120    ALT-LEFT Fake News Media Refuses Tell media tr...\n",
      "15962    Russia hand suspect Montenegro coup attempt: R...\n",
      "8222     U.S. House Speaker Ryan: Pacific trade deal fa...\n",
      "18642    “This TOTALLY FAKE!” Tucker Loses Temper Russi...\n",
      "3151     Trump likely nominate former Senate aide Peirc...\n",
      "22120    MASS INTEGRATION: Race Capitalize Virtual Futu...\n",
      "11046    Obama host Colombian President Santos next wee...\n",
      "23094    FLASHBACK: ‘The Syrian War: You’re Told’ (Abou...\n",
      "16719    Syria's Assad meets dissident footballers Dama...\n",
      "17252    FIND SENATOR VOTED HELP OBAMA Fundamental Tran...\n",
      "1646     Obama CRUSHED Trump’s Lies “Winning” Presidenc...\n",
      "7503     Democrats, civil rights groups disagree levels...\n",
      "12940    Italy's former PM Renzi loses allies election ...\n",
      "12574    ILLEGAL IMMIGRANT VOTING Legal Possibility Cit...\n",
      "9575     Republican Cornyn predicts party unify around ...\n",
      "14986    Exclusive: $6 38 days work: Child exploitation...\n",
      "5739     Senate Budget Committee approves Mulvaney budg...\n",
      "20831    Macron expects casualties, Hurricane Irma hits...\n",
      "21752    CRIES RACISM NYC MUSEUM KICKS ROWDY HIGH SCHOO...\n",
      "9778     White House urges congressional action amid Fl...\n",
      "15400    Kremlin warns mutual damage Ukraine cuts diplo...\n",
      "                               ...                        \n",
      "17083    U.N. says still determining Myanmar crisis gen...\n",
      "10956    BLOCKBUSTER COURT RULING Obama/Clinton Benghaz...\n",
      "8723     U.S. officials working restore public trust po...\n",
      "9764     LADY GAGA BLAMES President Trump Paul Ryan #La...\n",
      "11184    OBAMA ROB FANNIE FREDDIE BILLIONS? Dr. Ben Car...\n",
      "16798    OBAMA’S RADICAL DHS Chief Vows “Protect” Musli...\n",
      "4410     Factbox: Issues stake Trump-China summit Flori...\n",
      "8656     Judge tentatively rejects bid toss Trump Unive...\n",
      "14299    WHOA! SOROS-LINKED GROUP Funding Ohio’s John K...\n",
      "19684    U.N. starting gather testimony Myanmar violati...\n",
      "10588    Trump's immigration outrage poses challenge Cr...\n",
      "4389     Even Undocumented Immigrants Pay Income Taxes ...\n",
      "12011    EPIC TUCKER CARLSON! Liberal Hack Demolished C...\n",
      "1522     U.S. seeks 27 months prison ex-Congressman Ant...\n",
      "15903    Khamenei says Iran, Russia cooperate isolate U...\n",
      "17765    WOW! LOOK PAID Russia Dossier Triggered FBI In...\n",
      "14960    JOKE DAYMy wife went town visited shop.When ca...\n",
      "21149    Hollywood Lefty Leo DiCaprio Goes Rails Climat...\n",
      "21857    (VIDEO)ICE PROTECTING OBAMA: WON’T RELEASE NAM...\n",
      "12444    South Korean army says conducted successful he...\n",
      "9915     KID ROCK GOES Colin Kaepernick, Obamacare Dead...\n",
      "10524    NEWT GINGRICH: Obama, TRUMP, Testify Oath Cong...\n",
      "1455     NATO Officials Planning Trump Visit Small Chil...\n",
      "9090     Sanders vows help Clinton beat Trump, keeps ca...\n",
      "4152     Pro-Trump ‘Christian’ Leaders Got Taken Woodsh...\n",
      "16364    MISSING: TWO FILE ‘BOXES’ CLINTON E-MAILS…Evid...\n",
      "2275     Trump Twitter (Aug 7): Fake News, Senator Rich...\n",
      "19324    Ireland says 'lot work' needed move next phase...\n",
      "1178     House panel sets Puerto Rico recovery hearing ...\n",
      "13055    IDENTITY HILLARY’S MYSTERY “HANDLER” Finally R...\n",
      "Name: Body, Length: 8980, dtype: object\n",
      "16971    0\n",
      "1719     0\n",
      "2804     0\n",
      "8837     1\n",
      "15902    1\n",
      "20055    0\n",
      "649      1\n",
      "10413    0\n",
      "10996    1\n",
      "13761    1\n",
      "12190    1\n",
      "20139    1\n",
      "10839    1\n",
      "12783    0\n",
      "14385    0\n",
      "6631     0\n",
      "10677    0\n",
      "18058    0\n",
      "4556     0\n",
      "12166    0\n",
      "22063    0\n",
      "14353    1\n",
      "22509    0\n",
      "4831     1\n",
      "15834    1\n",
      "8397     1\n",
      "14764    1\n",
      "7148     0\n",
      "14098    0\n",
      "3986     1\n",
      "        ..\n",
      "7599     1\n",
      "1871     1\n",
      "18430    1\n",
      "7877     1\n",
      "16202    0\n",
      "5072     1\n",
      "2163     1\n",
      "17387    0\n",
      "6921     1\n",
      "17567    0\n",
      "6052     0\n",
      "16921    1\n",
      "14248    0\n",
      "2735     0\n",
      "21678    0\n",
      "18983    1\n",
      "10813    0\n",
      "17089    1\n",
      "14650    1\n",
      "18095    0\n",
      "15430    1\n",
      "14935    1\n",
      "20757    1\n",
      "20576    0\n",
      "10686    0\n",
      "8986     0\n",
      "21243    1\n",
      "21196    0\n",
      "22150    0\n",
      "2732     1\n",
      "Name: Category, Length: 35918, dtype: int64\n",
      "13888    0\n",
      "7763     0\n",
      "8388     0\n",
      "16820    0\n",
      "5099     1\n",
      "5812     1\n",
      "2747     1\n",
      "13264    0\n",
      "12157    1\n",
      "10120    0\n",
      "15962    1\n",
      "8222     1\n",
      "18642    0\n",
      "3151     1\n",
      "22120    0\n",
      "11046    1\n",
      "23094    0\n",
      "16719    1\n",
      "17252    0\n",
      "1646     0\n",
      "7503     1\n",
      "12940    1\n",
      "12574    0\n",
      "9575     1\n",
      "14986    1\n",
      "5739     1\n",
      "20831    1\n",
      "21752    0\n",
      "9778     1\n",
      "15400    1\n",
      "        ..\n",
      "17083    1\n",
      "10956    0\n",
      "8723     1\n",
      "9764     0\n",
      "11184    0\n",
      "16798    0\n",
      "4410     1\n",
      "8656     1\n",
      "14299    0\n",
      "19684    1\n",
      "10588    1\n",
      "4389     0\n",
      "12011    0\n",
      "1522     1\n",
      "15903    1\n",
      "17765    0\n",
      "14960    0\n",
      "21149    0\n",
      "21857    0\n",
      "12444    1\n",
      "9915     0\n",
      "10524    0\n",
      "1455     0\n",
      "9090     1\n",
      "4152     0\n",
      "16364    0\n",
      "2275     1\n",
      "19324    1\n",
      "1178     1\n",
      "13055    0\n",
      "Name: Category, Length: 8980, dtype: int64\n"
     ]
    }
   ],
   "source": [
    "print(X_train[0])\n",
    "print(X_test)\n",
    "print(Y_train)\n",
    "print(Y_test)"
   ]
  },
  {
   "cell_type": "code",
   "execution_count": 15,
   "metadata": {},
   "outputs": [],
   "source": [
    "# X_train = np.array(X_train)\n",
    "# Y_train = np.array(Y_train)\n",
    "# X_test = np.array(X_test)\n",
    "# Y_test = np.array(Y_test)"
   ]
  },
  {
   "cell_type": "code",
   "execution_count": 16,
   "metadata": {},
   "outputs": [
    {
     "name": "stdout",
     "output_type": "stream",
     "text": [
      "(35918,)\n",
      "(35918,)\n",
      "(8980,)\n",
      "(8980,)\n"
     ]
    }
   ],
   "source": [
    "print(X_train.shape)\n",
    "print(Y_train.shape)\n",
    "print(X_test.shape)\n",
    "print(Y_test.shape)"
   ]
  },
  {
   "cell_type": "code",
   "execution_count": 17,
   "metadata": {},
   "outputs": [],
   "source": [
    "from tensorflow.keras.preprocessing.text import Tokenizer\n",
    "from tensorflow.keras.preprocessing.sequence import pad_sequences"
   ]
  },
  {
   "cell_type": "code",
   "execution_count": 18,
   "metadata": {},
   "outputs": [],
   "source": [
    "tokenizer = Tokenizer(num_words = 10000)\n",
    "tokenizer.fit_on_texts(X_train)\n",
    "word_index = tokenizer.word_index\n",
    "# print(word_index)"
   ]
  },
  {
   "cell_type": "code",
   "execution_count": 19,
   "metadata": {},
   "outputs": [],
   "source": [
    "tokenized_train = tokenizer.texts_to_sequences(X_train)\n",
    "# print(tokenized_train)\n",
    "padded = pad_sequences(tokenized_train, maxlen = 300)\n",
    "X_train = padded\n",
    "tokenized_test = tokenizer.texts_to_sequences(X_test)\n",
    "X_test = pad_sequences(tokenized_test, maxlen=300)"
   ]
  },
  {
   "cell_type": "code",
   "execution_count": 20,
   "metadata": {},
   "outputs": [
    {
     "name": "stdout",
     "output_type": "stream",
     "text": [
      "[[   0    0    0 ... 3082  813  295]\n",
      " [   0    0    0 ... 3925  481  396]\n",
      " [   0    0    0 ... 2895  481  396]\n",
      " ...\n",
      " [   0    0    0 ...   76 2710 1405]\n",
      " [2124 8239 4190 ...  288 1066  642]\n",
      " [   0    0    0 ... 3347  755 4497]]\n",
      "[[   0    0    0 ... 2992  403  673]\n",
      " [   0    0    0 ...  109   76 3222]\n",
      " [   0    0    0 ...  109   76 3355]\n",
      " ...\n",
      " [   0    0    0 ... 3172 2121 1710]\n",
      " [   0    0    0 ...  260 3067  747]\n",
      " [   0    0    0 ... 3304  233 1023]]\n",
      "(35918, 300)\n"
     ]
    }
   ],
   "source": [
    "print(X_train)\n",
    "print(X_test)\n",
    "print(padded.shape)"
   ]
  },
  {
   "cell_type": "code",
   "execution_count": 21,
   "metadata": {},
   "outputs": [],
   "source": [
    "#its important to use the glove.twitter.27B.100d.txt embeddings \n",
    "# embedding_dict = {}\n",
    "# with open(\"/home/arkasarkar/Desktop/DL_projects/glove.twitter.27B.100d.txt\", 'r', encoding = \"utf-8\") as f:\n",
    "#     for line in f:\n",
    "#         values = line.split()\n",
    "#         word = values[0]\n",
    "#         vector = np.asarray(values[1:], \"float32\")\n",
    "# #         print(word,vector)\n",
    "#         embedding_dict[word] = vector\n",
    "\n",
    "def get_coefs(word, *arr): \n",
    "    return word, np.asarray(arr, dtype='float32')\n",
    "embeddings_index = dict(get_coefs(*o.rstrip().rsplit(' ')) for o in open(\"/home/arkasarkar/Desktop/DL_projects/glove.twitter.27B.100d.txt\"))"
   ]
  },
  {
   "cell_type": "code",
   "execution_count": 22,
   "metadata": {},
   "outputs": [
    {
     "name": "stdout",
     "output_type": "stream",
     "text": [
      "[-0.24645    0.45248    0.8372     0.1301    -0.10773   -0.23649\n",
      " -0.022622  -0.19291    0.0089398 -0.42653    0.46929   -0.2226\n",
      " -1.5809    -0.50369    0.302     -0.032982  -0.82088   -0.30826\n",
      "  0.32375    0.079145   0.45206   -0.60606   -0.021866   0.33313\n",
      " -0.023317   0.44279    0.47152   -0.037821  -0.072843  -0.72901\n",
      "  0.65716    0.19021   -0.34567   -0.71308    0.034026   0.30534\n",
      " -0.21855    0.024003  -0.14556   -0.68436    0.93626    0.12909\n",
      " -0.17345   -0.68616    0.011613   0.32246   -0.48218   -0.12962\n",
      " -0.12519    0.36592   -0.058803  -0.99927   -0.39455    0.29715\n",
      " -0.44197    0.16283    0.17432   -0.74203   -0.41865    0.21203\n",
      "  0.18244   -0.020944   0.051607  -0.17384    0.16151   -0.39944\n",
      "  0.52242    0.55355   -0.70574    0.1701    -0.22219   -0.61542\n",
      " -0.31061   -0.29061    0.10021   -0.058518   0.19118    0.8167\n",
      "  0.092544   0.25594    0.8109    -0.14547   -0.25681    0.37606\n",
      " -0.74676   -0.41652    0.29502   -0.39016   -0.55615   -0.50449\n",
      " -0.55999   -0.63991    0.0030587 -0.29089    0.070067   0.39176\n",
      " -0.55107   -0.98968   -0.25141   -0.54979  ]\n"
     ]
    }
   ],
   "source": [
    "print((embeddings_index[\"trump\"]))"
   ]
  },
  {
   "cell_type": "code",
   "execution_count": 23,
   "metadata": {
    "scrolled": true
   },
   "outputs": [
    {
     "name": "stderr",
     "output_type": "stream",
     "text": [
      "/home/arkasarkar/anaconda3/lib/python3.7/site-packages/ipykernel_launcher.py:2: FutureWarning: arrays to stack must be passed as a \"sequence\" type such as list or tuple. Support for non-sequence iterables such as generators is deprecated as of NumPy 1.16 and will raise an error in the future.\n",
      "  \n"
     ]
    }
   ],
   "source": [
    "max_features = 10000\n",
    "all_embs = np.stack(embeddings_index.values())\n",
    "emb_mean,emb_std = all_embs.mean(), all_embs.std()\n",
    "embed_size = all_embs.shape[1]\n",
    "\n",
    "word_index = tokenizer.word_index\n",
    "nb_words = min(max_features, len(word_index))\n",
    "#change below line if computing normal stats is too slow\n",
    "embedding_matrix = embedding_matrix = np.random.normal(emb_mean, emb_std, (nb_words, embed_size))\n",
    "for word, i in word_index.items():\n",
    "    if i >= max_features: continue\n",
    "    embedding_vector = embeddings_index.get(word)\n",
    "    if embedding_vector is not None: embedding_matrix[i] = embedding_vector"
   ]
  },
  {
   "cell_type": "code",
   "execution_count": 24,
   "metadata": {},
   "outputs": [
    {
     "name": "stdout",
     "output_type": "stream",
     "text": [
      "(10000, 100)\n"
     ]
    }
   ],
   "source": [
    "print(embedding_matrix.shape)"
   ]
  },
  {
   "cell_type": "code",
   "execution_count": 25,
   "metadata": {},
   "outputs": [
    {
     "name": "stderr",
     "output_type": "stream",
     "text": [
      "Using TensorFlow backend.\n"
     ]
    }
   ],
   "source": [
    "import math\n",
    "import keras\n",
    "from tensorflow.keras.models import Sequential\n",
    "from tensorflow.keras.layers import Dense,Embedding,LSTM,Dropout\n",
    "from tensorflow.keras.callbacks import ReduceLROnPlateau\n",
    "from tensorflow.keras.callbacks import ModelCheckpoint\n",
    "import tensorflow as tf"
   ]
  },
  {
   "cell_type": "code",
   "execution_count": 26,
   "metadata": {},
   "outputs": [],
   "source": [
    "ACCURACY_THRESHOLD = 0.98\n",
    "\n",
    "class myCallback(tf.keras.callbacks.Callback):\n",
    "    def on_epoch_end(self, epoch, logs={}):\n",
    "        if(logs.get('acc') > ACCURACY_THRESHOLD):\n",
    "            print(\"\\nReached %2.2f%% accuracy, so stopping training!!\" %(ACCURACY_THRESHOLD*100))\n",
    "            self.model.stop_training = True\n",
    "\n",
    "def step_decay(epochs):\n",
    "    initial_lrate = 0.1\n",
    "    drop = 0.5\n",
    "    epochs_drop = 10.0\n",
    "    lrate = initial_lrate * math.pow(drop, math.floor((1+epoch)/epochs_drop))\n",
    "    return lrate\n",
    "\n",
    "checkpoint = ModelCheckpoint(\"model_checkpoints_weights/model_weights-{epoch:02d}-{val_accuracy:.2f}.hdf5\", monitor='loss', verbose=1,save_best_only=True, mode='auto', period=1)\n",
    "learning_rate_reduction = ReduceLROnPlateau(monitor='val_accuracy', patience = 2, verbose=1,factor=0.5, min_lr=0.00001)"
   ]
  },
  {
   "cell_type": "code",
   "execution_count": 31,
   "metadata": {
    "scrolled": true
   },
   "outputs": [
    {
     "name": "stdout",
     "output_type": "stream",
     "text": [
      "Model: \"sequential_1\"\n",
      "_________________________________________________________________\n",
      "Layer (type)                 Output Shape              Param #   \n",
      "=================================================================\n",
      "embedding_1 (Embedding)      (None, 300, 100)          1000000   \n",
      "_________________________________________________________________\n",
      "unified_lstm_3 (UnifiedLSTM) (None, 300, 128)          117248    \n",
      "_________________________________________________________________\n",
      "unified_lstm_4 (UnifiedLSTM) (None, 64)                49408     \n",
      "_________________________________________________________________\n",
      "dense_2 (Dense)              (None, 32)                2080      \n",
      "_________________________________________________________________\n",
      "dense_3 (Dense)              (None, 1)                 33        \n",
      "=================================================================\n",
      "Total params: 1,168,769\n",
      "Trainable params: 168,769\n",
      "Non-trainable params: 1,000,000\n",
      "_________________________________________________________________\n"
     ]
    }
   ],
   "source": [
    "model = Sequential([\n",
    "    Embedding(max_features, output_dim = embedding_matrix.shape[1], weights = [embedding_matrix], input_length = 300, trainable = False),\n",
    "#     LSTM(128, return_sequences = True),\n",
    "    LSTM(128, return_sequences = True, recurrent_dropout = 0.25 , dropout = 0.25),\n",
    "    LSTM(64, recurrent_dropout = 0.1 , dropout = 0.1),\n",
    "    Dense(32, activation = 'relu'),\n",
    "    Dense(1, activation = 'sigmoid')   \n",
    "    \n",
    "])\n",
    "\n",
    "model.compile(optimizer=tf.keras.optimizers.Adam(lr = 0.01), loss='binary_crossentropy', metrics=['accuracy'])\n",
    "model.summary()\n",
    "\n"
   ]
  },
  {
   "cell_type": "code",
   "execution_count": 32,
   "metadata": {
    "scrolled": false
   },
   "outputs": [
    {
     "name": "stdout",
     "output_type": "stream",
     "text": [
      "Train on 35918 samples, validate on 8980 samples\n",
      "Epoch 1/10\n",
      "35840/35918 [============================>.] - ETA: 0s - loss: 0.4084 - accuracy: 0.8048\n",
      "Epoch 00001: loss improved from inf to 0.40800, saving model to model_checkpoints_weights/model_weights-01-0.88.hdf5\n",
      "35918/35918 [==============================] - 266s 7ms/sample - loss: 0.4080 - accuracy: 0.8051 - val_loss: 0.2717 - val_accuracy: 0.8850\n",
      "Epoch 2/10\n",
      "35840/35918 [============================>.] - ETA: 0s - loss: 0.2812 - accuracy: 0.8790\n",
      "Epoch 00002: loss improved from 0.40800 to 0.28108, saving model to model_checkpoints_weights/model_weights-02-0.87.hdf5\n",
      "35918/35918 [==============================] - 262s 7ms/sample - loss: 0.2811 - accuracy: 0.8791 - val_loss: 0.3584 - val_accuracy: 0.8680\n",
      "Epoch 3/10\n",
      "35840/35918 [============================>.] - ETA: 0s - loss: 0.2180 - accuracy: 0.9107\n",
      "Epoch 00003: loss improved from 0.28108 to 0.21794, saving model to model_checkpoints_weights/model_weights-03-0.93.hdf5\n",
      "35918/35918 [==============================] - 253s 7ms/sample - loss: 0.2179 - accuracy: 0.9107 - val_loss: 0.1650 - val_accuracy: 0.9258\n",
      "Epoch 4/10\n",
      "35840/35918 [============================>.] - ETA: 0s - loss: 0.0871 - accuracy: 0.9679\n",
      "Epoch 00004: loss improved from 0.21794 to 0.08710, saving model to model_checkpoints_weights/model_weights-04-0.98.hdf5\n",
      "35918/35918 [==============================] - 249s 7ms/sample - loss: 0.0871 - accuracy: 0.9678 - val_loss: 0.0349 - val_accuracy: 0.9840\n",
      "Epoch 5/10\n",
      "35840/35918 [============================>.] - ETA: 0s - loss: 0.0340 - accuracy: 0.9875\n",
      "Epoch 00005: loss improved from 0.08710 to 0.03390, saving model to model_checkpoints_weights/model_weights-05-0.99.hdf5\n",
      "35918/35918 [==============================] - 258s 7ms/sample - loss: 0.0339 - accuracy: 0.9875 - val_loss: 0.0294 - val_accuracy: 0.9889\n",
      "Epoch 6/10\n",
      "35840/35918 [============================>.] - ETA: 0s - loss: 0.0277 - accuracy: 0.9903\n",
      "Epoch 00006: loss improved from 0.03390 to 0.02766, saving model to model_checkpoints_weights/model_weights-06-0.99.hdf5\n",
      "35918/35918 [==============================] - 250s 7ms/sample - loss: 0.0277 - accuracy: 0.9903 - val_loss: 0.0236 - val_accuracy: 0.9892\n",
      "Epoch 7/10\n",
      "35840/35918 [============================>.] - ETA: 0s - loss: 0.0263 - accuracy: 0.9905\n",
      "Epoch 00007: loss improved from 0.02766 to 0.02623, saving model to model_checkpoints_weights/model_weights-07-0.99.hdf5\n",
      "35918/35918 [==============================] - 251s 7ms/sample - loss: 0.0262 - accuracy: 0.9905 - val_loss: 0.0244 - val_accuracy: 0.9888\n",
      "Epoch 8/10\n",
      "35840/35918 [============================>.] - ETA: 0s - loss: 0.0236 - accuracy: 0.9915\n",
      "Epoch 00008: loss improved from 0.02623 to 0.02366, saving model to model_checkpoints_weights/model_weights-08-0.99.hdf5\n",
      "35918/35918 [==============================] - 259s 7ms/sample - loss: 0.0237 - accuracy: 0.9915 - val_loss: 0.0197 - val_accuracy: 0.9924\n",
      "Epoch 9/10\n",
      "35840/35918 [============================>.] - ETA: 0s - loss: 0.0209 - accuracy: 0.9922\n",
      "Epoch 00009: loss improved from 0.02366 to 0.02090, saving model to model_checkpoints_weights/model_weights-09-0.99.hdf5\n",
      "35918/35918 [==============================] - 268s 7ms/sample - loss: 0.0209 - accuracy: 0.9923 - val_loss: 0.0176 - val_accuracy: 0.9943\n",
      "Epoch 10/10\n",
      "35840/35918 [============================>.] - ETA: 0s - loss: 0.0189 - accuracy: 0.9932\n",
      "Epoch 00010: loss improved from 0.02090 to 0.01890, saving model to model_checkpoints_weights/model_weights-10-0.99.hdf5\n",
      "35918/35918 [==============================] - 263s 7ms/sample - loss: 0.0189 - accuracy: 0.9932 - val_loss: 0.0183 - val_accuracy: 0.9935\n"
     ]
    }
   ],
   "source": [
    "history = model.fit(X_train, Y_train , validation_data = (X_test,Y_test), batch_size = 256 , epochs = 10 , callbacks = [checkpoint,learning_rate_reduction])"
   ]
  },
  {
   "cell_type": "code",
   "execution_count": null,
   "metadata": {},
   "outputs": [],
   "source": [
    "print(Y_train.shape)"
   ]
  },
  {
   "cell_type": "code",
   "execution_count": 41,
   "metadata": {},
   "outputs": [
    {
     "name": "stderr",
     "output_type": "stream",
     "text": [
      "No handles with labels found to put in legend.\n"
     ]
    },
    {
     "data": {
      "image/png": "[encoded data removed]",
      "text/plain": [
       "<Figure size 432x288 with 1 Axes>"
      ]
     },
     "metadata": {
      "needs_background": "light"
     },
     "output_type": "display_data"
    }
   ],
   "source": [
    "import matplotlib.pyplot as plt\n",
    "train_acc = history.history[\"accuracy\"]\n",
    "train_loss = history.history[\"loss\"]\n",
    "plt.plot(train_acc)\n",
    "plt.xlabel(\"Epoch\")\n",
    "plt.ylabel(\"train-accuracy\")\n",
    "plt.show()\n",
    "\n"
   ]
  },
  {
   "cell_type": "code",
   "execution_count": 40,
   "metadata": {},
   "outputs": [
    {
     "data": {
      "image/png": "[encoded data removed]",
      "text/plain": [
       "<Figure size 432x288 with 1 Axes>"
      ]
     },
     "metadata": {
      "needs_background": "light"
     },
     "output_type": "display_data"
    }
   ],
   "source": [
    "plt.plot(train_loss)\n",
    "plt.xlabel(\"Epoch\")\n",
    "plt.ylabel(\"loss\")\n",
    "plt.show()"
   ]
  },
  {
   "cell_type": "code",
   "execution_count": 42,
   "metadata": {},
   "outputs": [
    {
     "name": "stdout",
     "output_type": "stream",
     "text": [
      "Saved model to disk\n"
     ]
    }
   ],
   "source": [
    "model_json = model.to_json()\n",
    "with open(\"model.json\", \"w\") as json_file:\n",
    "    json_file.write(model_json)\n",
    "# serialize weights to HDF5\n",
    "model.save_weights(\"model.h5\")\n",
    "print(\"Saved model to disk\")"
   ]
  },
  {
   "cell_type": "code",
   "execution_count": null,
   "metadata": {},
   "outputs": [],
   "source": []
  }
 ],
 "metadata": {
  "kernelspec": {
   "display_name": "Python 3",
   "language": "python",
   "name": "python3"
  },
  "language_info": {
   "codemirror_mode": {
    "name": "ipython",
    "version": 3
   },
   "file_extension": ".py",
   "mimetype": "text/x-python",
   "name": "python",
   "nbconvert_exporter": "python",
   "pygments_lexer": "ipython3",
   "version": "3.7.3"
  }
 },
 "nbformat": 4,
 "nbformat_minor": 2
}
